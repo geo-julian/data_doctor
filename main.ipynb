{
 "cells": [
  {
   "cell_type": "code",
   "execution_count": 1,
   "metadata": {},
   "outputs": [
    {
     "name": "stdout",
     "output_type": "stream",
     "text": [
      "(18442, 154)\n"
     ]
    }
   ],
   "source": [
    "import numpy as np\n",
    "import pandas as pd\n",
    "import sys\n",
    "#sys.setrecursionlimit(10**6)\n",
    "\n",
    "db = pd.read_csv('2020_10_Drill_Data.csv', sep=',', header=0, \\\n",
    "                 dtype={'SAMPLE_ID': object, 'ALT_Arg': object, 'ALT_Sil': object, 'MN_Min1_Style': object, 'MIN1': object, \\\n",
    "                        'MN_MinOxState': object, 'MN_Ox1_Color': object, 'MN_Ox1_ColorMod': object, 'MN_Ox1_Gsize': object,\\\n",
    "                        'MN_Sulfide_1': object, 'MN_Sulfide_1_Gsize': object, 'MN_Sulfide_1_Style': object, \\\n",
    "                        'ST_Type': object, 'VN_Style': object, 'LT_Form':object, 'Formation':object}, \\\n",
    "                 keep_default_na=True, na_filter=True, engine = 'python')\n",
    "print(db.shape)\n",
    "#db.to_csv('2020_10_Drill_Data_test.csv', index=True, header=True)"
   ]
  },
  {
   "cell_type": "code",
   "execution_count": 2,
   "metadata": {},
   "outputs": [
    {
     "name": "stdout",
     "output_type": "stream",
     "text": [
      "(18442, 158)\n"
     ]
    }
   ],
   "source": [
    "db['Au_ppb'] = db['Au_BEST_opt'] / 0.00002917\n",
    "\n",
    "db['Au_ppm'] = db['Au_ppb'] / 1000\n",
    "\n",
    "db['Age'] = db['LT_Form'].astype(object).str[0]\n",
    "\n",
    "db = db.replace({'Age': {'F': '01_Fault', 'Q':'02_Quaternary', 'T':'03_Tertiary', \n",
    "                                     'M':'04_Mississippian', 'D':'05_Devonian', 'S':'06_Silurian', \n",
    "                                     'C':'07_Cambrian', 'n':'Unknown', '0':'Unknown'}})\n",
    "\n",
    "db['Formation'] = db['LT_Form'].astype(object).str[1:]\n",
    "\n",
    "db = db.replace({'Formation': {'lt': '01_Fault', 'al':'02_Alluvium', 'co':'03_Conglomerate', \n",
    "                          'd':'04_Quaternary', 'ir':'05_Rhyolite Lava', 'vt':'06_Tuff', \n",
    "                          'vu':'06_Volcano-sedimentary', 'p':'08_Paintbrush Group', 'cb':'09_Bullfrog Member', \n",
    "                          'bx':'10_Tuff breccia', 'il':'11_Latite Dike', 'j':'12_Joshua Hollow', \n",
    "                          'id':'13_Diorite Dike', 'f':'15_Flourspar Canyon Fm', \n",
    "                          'tr':'16_Tarantula Canyon', 'lm':'17_Lone Mountain Dolomite', 'rm':'18_Roberts Mtn Fm', \n",
    "                          'ns':'19_Nopah Smoky', 'nd':'21_Nopah_Dundemberg', 'bk':'22_Bonanza King Fm',\n",
    "                          'de':'14_Eleana Fm', 'nh':'20_Nopah Halfpint',  'r':'unknown',     \n",
    "                          'c':'23_Carrara Fm', 'z':'24_Zabriskie Quartzite', '0':'unknown', 'n':'unknown', '':'unknown'}})\n",
    "\n",
    "db['Formation'].replace(np.nan,'unknown', inplace=True)\n",
    "\n",
    "print(db.shape)"
   ]
  },
  {
   "cell_type": "code",
   "execution_count": 3,
   "metadata": {},
   "outputs": [
    {
     "name": "stdout",
     "output_type": "stream",
     "text": [
      "(5331, 2)\n"
     ]
    }
   ],
   "source": [
    "db_ID = pd.read_csv('2020_10_Drill_IDs_2.csv', sep=',', header=0, dtype={'HOLE-ID': object, 'SAMPLE_ID':object}, \\\n",
    "                 keep_default_na=True, na_filter=True, engine = 'python')\n",
    "\n",
    "print(db_ID.shape)"
   ]
  },
  {
   "cell_type": "code",
   "execution_count": 4,
   "metadata": {
    "scrolled": true
   },
   "outputs": [
    {
     "name": "stdout",
     "output_type": "stream",
     "text": [
      "(18450, 159)\n"
     ]
    }
   ],
   "source": [
    "db_2 = pd.merge(db, db_ID, how='left', on='SAMPLE_ID')\n",
    "\n",
    "print(db_2.shape)"
   ]
  },
  {
   "cell_type": "code",
   "execution_count": 5,
   "metadata": {},
   "outputs": [],
   "source": [
    "#db_2.to_csv('2020_10_Drill_Data_test.csv', index=True, header=True)"
   ]
  },
  {
   "cell_type": "code",
   "execution_count": 6,
   "metadata": {},
   "outputs": [
    {
     "name": "stdout",
     "output_type": "stream",
     "text": [
      "(18450, 163)\n"
     ]
    }
   ],
   "source": [
    "\n",
    "db_2['HOLE-ID'].replace(np.nan,'unknown', inplace=True)\n",
    "db_2['Age'].replace(np.nan,'unknown', inplace=True)\n",
    "\n",
    "db_2['SAMPLE_ID'].replace(np.nan,'unknown', inplace=True)\n",
    "\n",
    "db_2.loc[db_2['HOLE-ID'].astype(object).str[-1] == 'C', 'drill_type'] = 'core' \n",
    "db_2.loc[db_2['HOLE-ID'].astype(object).str[-1] != 'C', 'drill_type'] = 'RC' \n",
    "db_2.loc[db_2['HOLE-ID'] == 'unknown', 'drill_type'] = 'unknown' \n",
    "\n",
    "db_2.loc[db_2['HOLE-ID'].astype(object).str[1:3] == '17', 'year_drilled'] = '2017' \n",
    "db_2.loc[db_2['HOLE-ID'].astype(object).str[1:3] == '18', 'year_drilled'] = '2018' \n",
    "db_2.loc[db_2['HOLE-ID'].astype(object).str[1:3] == '19', 'year_drilled'] = '2019' \n",
    "db_2.loc[db_2['HOLE-ID'].astype(object).str[2:4] == '18', 'year_drilled'] = '2018' \n",
    "db_2.loc[db_2['HOLE-ID'].astype(object).str[3:5] == '18', 'year_drilled'] = '2018' \n",
    "db_2['year_drilled'].replace(np.nan,'unknown', inplace=True)\n",
    "\n",
    "db_2.loc[db_2['year_drilled'] == '2017', 'Laboratory'] = 'ALS' \n",
    "db_2.loc[db_2['year_drilled'] == '2018', 'Laboratory'] = 'ALS' \n",
    "db_2.loc[db_2['year_drilled'] == '2019', 'Laboratory'] = 'BV' \n",
    "db_2['Laboratory'].replace(np.nan,'unknown', inplace=True)\n",
    "\n",
    "db_2.loc[db_2['year_drilled'] == '2017', 'Digestion'] = '4-acid' \n",
    "db_2.loc[db_2['year_drilled'] == '2018', 'Digestion'] = '4-acid' \n",
    "db_2.loc[db_2['year_drilled'] == '2019', 'Digestion'] = 'Aqua Regia' \n",
    "db_2['Digestion'].replace(np.nan,'unknown', inplace=True)\n",
    "\n",
    "print(db_2.shape)\n",
    "#db_2.to_csv('2020_10_Drill_Data_test.csv', index=True, header=True)"
   ]
  },
  {
   "cell_type": "code",
   "execution_count": 7,
   "metadata": {},
   "outputs": [
    {
     "name": "stdout",
     "output_type": "stream",
     "text": [
      "(18450, 163)\n"
     ]
    }
   ],
   "source": [
    "db_3 = db_2[['PROJECT', 'HOLE-ID', 'SAMPLE_ID', 'FROM', 'TO', \\\n",
    "         'drill_type', 'year_drilled', 'Laboratory', 'Digestion', 'Age', 'Formation', \\\n",
    "         'LT_Form', 'LITH1', 'LT_Lith_1_Mod1', 'LT_Lith_1_pct',\n",
    "         'ALT_Arg', 'ALT_Bleach', 'ALT_Calc', 'ALT_CalcSil', 'ALT_Carbon', 'ALT_Decalc', 'ALT1INTENS', \\\n",
    "         'ALT_Pot', 'ALT_Prop', 'ALT_QSP', 'ALT_Rieb', 'ALT_Ser', 'ALT_Sil', 'ALT_Spec', 'ALT1', \\\n",
    "         'MN_Gang1', 'MN_Gang1_pct', \\\n",
    "         'MN_Gang1_style', 'MN_Met1', 'MN_Met1_pct', 'MN_Met1_style', 'MN_Min1_Int', 'MN_Min1_Style', \\\n",
    "         'MIN1', 'MN_MinOxState', 'MN_Ox1', 'MN_Ox1_Color', 'MN_Ox1_ColorMod', 'MN_Ox1_Gsize', \\\n",
    "         'MN_Ox1_Int', 'MN_Ox1_pct', 'MN_Ox1_style', 'MIN1PCT', 'MN_Py', 'MN_Qtz', 'MN_Sulfide_1', \\\n",
    "         'MN_Sulfide_1_Gsize', 'MN_Sulfide_1_Int', 'MN_Sulfide_1_Style', 'OXIDATION', 'OX_SufT', \\\n",
    "         'RT_Pri_Color', 'RT1', 'RT1PCT', 'S_Sulfide_Int', 'SULFIDEPCT', 'S_Sulfide_Type', \\\n",
    "         'ST_Type', 'VN_Style', \\\n",
    "         'Au_CCS_BEST_opt', 'Au_ppb', 'Au_ppm', 'Au_BEST_opt', \\\n",
    "         'AgEq_BEST_ppm', 'Ac_BEST_ppm', 'Ag_BEST_ppm', 'Al_BEST_ppm', 'Ar_BEST_ppm', \\\n",
    "         'As_BEST_ppm', 'At_BEST_ppm', 'B_BEST_ppm', 'Ba_BEST_ppm', 'Be_BEST_ppm', 'Bi_BEST_ppm', \\\n",
    "         'Br_BEST_ppm', 'C_BEST_ppm', 'Ca_BEST_ppm', 'Cd_BEST_ppm', 'Ce_BEST_ppm', 'Cl_BEST_ppm', \\\n",
    "         'Co_BEST_ppm', 'Cr_BEST_ppm', 'Cs_BEST_ppm', 'Cu_BEST_ppm', 'Dy_BEST_ppm', 'Er_BEST_ppm', \\\n",
    "         'Eu_BEST_ppm', 'F_BEST_ppm', 'Fe_BEST_ppm', 'Fr_BEST_ppm', 'Ga_BEST_ppm', 'Gd_BEST_ppm', \\\n",
    "         'Ge_BEST_ppm', 'H_BEST_ppm', 'He_BEST_ppm', 'Hf_BEST_ppm', 'Hg_BEST_ppm', 'Ho_BEST_ppm', \\\n",
    "         'I_BEST_ppm', 'In_BEST_ppm', 'Ir_BEST_ppm', 'K_BEST_ppm', 'Kr_BEST_ppm', 'La_BEST_ppm', \\\n",
    "         'Li_BEST_ppm', 'Lu_BEST_ppm', 'Mg_BEST_ppm', 'Mn_BEST_ppm', 'Mo_BEST_ppm', 'N_BEST_ppm', \\\n",
    "         'Na_BEST_ppm', 'Nb_BEST_ppm', 'Nd_BEST_ppm', 'Ne_BEST_ppm', 'Ni_BEST_ppm', 'Np_BEST_ppm', \\\n",
    "         'O_BEST_ppm', 'Os_BEST_ppm', 'P_BEST_ppm', 'Pa_BEST_ppm', 'Pb_BEST_ppm', 'Pd_BEST_ppm',  \\\n",
    "         'Pm_BEST_ppm', 'Po_BEST_ppm', 'Pr_BEST_ppm', 'Pt_BEST_ppm', 'Pu_BEST_ppm', 'Ra_BEST_ppm', \\\n",
    "         'Rb_BEST_ppm', 'Re_BEST_ppm', 'Rh_BEST_ppm', 'Rn_BEST_ppm', 'Ru_BEST_ppm', 'S_BEST_ppm', \\\n",
    "         'Sb_BEST_ppm', 'Sc_BEST_ppm', 'Se_BEST_ppm', 'Si_BEST_ppm', 'Sm_BEST_ppm', 'Sn_BEST_ppm', \\\n",
    "         'Sr_BEST_ppm', 'Ta_BEST_ppm', 'Tb_BEST_ppm', 'Tc_BEST_ppm', 'Te_BEST_ppm', 'Th_BEST_ppm', \\\n",
    "         'Ti_BEST_ppm', 'Tl_BEST_ppm', 'Tm_BEST_ppm', 'U_BEST_ppm', 'V_BEST_ppm', 'W_BEST_ppm', \\\n",
    "         'Wgt_BEST_ppm', 'Xe_BEST_ppm', 'Y_BEST_ppm', 'Yb_BEST_ppm', 'Zn_BEST_ppm', 'Zr_BEST_ppm']]\n",
    "\n",
    "print(db_3.shape)\n",
    "db_3.to_csv('2020_10_Drill_Data_modified_JDR.csv', index=True, header=True)"
   ]
  },
  {
   "cell_type": "code",
   "execution_count": null,
   "metadata": {},
   "outputs": [],
   "source": []
  }
 ],
 "metadata": {
  "kernelspec": {
   "display_name": "Python 3",
   "language": "python",
   "name": "python3"
  },
  "language_info": {
   "codemirror_mode": {
    "name": "ipython",
    "version": 3
   },
   "file_extension": ".py",
   "mimetype": "text/x-python",
   "name": "python",
   "nbconvert_exporter": "python",
   "pygments_lexer": "ipython3",
   "version": "3.7.6"
  }
 },
 "nbformat": 4,
 "nbformat_minor": 4
}
